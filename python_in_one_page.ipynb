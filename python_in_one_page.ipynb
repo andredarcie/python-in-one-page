{
  "nbformat": 4,
  "nbformat_minor": 0,
  "metadata": {
    "colab": {
      "name": "python-in-one-page.ipynb",
      "provenance": [],
      "authorship_tag": "ABX9TyPlZQx41Y6HiPJn1VLoJwao",
      "include_colab_link": true
    },
    "kernelspec": {
      "name": "python3",
      "display_name": "Python 3"
    }
  },
  "cells": [
    {
      "cell_type": "markdown",
      "metadata": {
        "id": "view-in-github",
        "colab_type": "text"
      },
      "source": [
        "<a href=\"https://colab.research.google.com/github/andredarcie/python-in-one-page/blob/master/python_in_one_page.ipynb\" target=\"_parent\"><img src=\"https://colab.research.google.com/assets/colab-badge.svg\" alt=\"Open In Colab\"/></a>"
      ]
    },
    {
      "cell_type": "markdown",
      "metadata": {
        "id": "Ufmoz5FB7IBt",
        "colab_type": "text"
      },
      "source": [
        "# Python in one page"
      ]
    },
    {
      "cell_type": "markdown",
      "metadata": {
        "id": "dJIZpYWK7Qkp",
        "colab_type": "text"
      },
      "source": [
        "## What is Python?\n",
        "\n",
        "Python is a popular programming language. It was created by Guido van Rossum, and released in 1991.\n",
        "\n",
        "To focus on the language itself this guide not includes any built-in modules like math, random, datetime, json, re, random, etc"
      ]
    },
    {
      "cell_type": "markdown",
      "metadata": {
        "id": "1Rwa7_m_7aXn",
        "colab_type": "text"
      },
      "source": [
        "Make a simple hello world"
      ]
    },
    {
      "cell_type": "code",
      "metadata": {
        "id": "mjkYYWFp7DSp",
        "colab_type": "code",
        "colab": {
          "base_uri": "https://localhost:8080/",
          "height": 34
        },
        "outputId": "70113632-3497-4e85-dac5-c0f968f5540e"
      },
      "source": [
        "print('Hello, World!')"
      ],
      "execution_count": 1,
      "outputs": [
        {
          "output_type": "stream",
          "text": [
            "Hello, World!\n"
          ],
          "name": "stdout"
        }
      ]
    },
    {
      "cell_type": "markdown",
      "metadata": {
        "id": "6752HQqs7AjA",
        "colab_type": "text"
      },
      "source": [
        "**Help**"
      ]
    },
    {
      "cell_type": "code",
      "metadata": {
        "id": "z6z6XqsJ7DE2",
        "colab_type": "code",
        "colab": {
          "base_uri": "https://localhost:8080/",
          "height": 221
        },
        "outputId": "4c50cb84-beca-4478-8abf-7fb4b7cfd8f0"
      },
      "source": [
        "help(print)"
      ],
      "execution_count": 2,
      "outputs": [
        {
          "output_type": "stream",
          "text": [
            "Help on built-in function print in module builtins:\n",
            "\n",
            "print(...)\n",
            "    print(value, ..., sep=' ', end='\\n', file=sys.stdout, flush=False)\n",
            "    \n",
            "    Prints the values to a stream, or to sys.stdout by default.\n",
            "    Optional keyword arguments:\n",
            "    file:  a file-like object (stream); defaults to the current sys.stdout.\n",
            "    sep:   string inserted between values, default a space.\n",
            "    end:   string appended after the last value, default a newline.\n",
            "    flush: whether to forcibly flush the stream.\n",
            "\n"
          ],
          "name": "stdout"
        }
      ]
    },
    {
      "cell_type": "markdown",
      "metadata": {
        "id": "6rVqe_fh7MX1",
        "colab_type": "text"
      },
      "source": [
        "**Comments**"
      ]
    },
    {
      "cell_type": "code",
      "metadata": {
        "id": "IGRidkbj7OjW",
        "colab_type": "code",
        "colab": {}
      },
      "source": [
        "#This is a comment"
      ],
      "execution_count": 3,
      "outputs": []
    },
    {
      "cell_type": "markdown",
      "metadata": {
        "id": "ziFHPhcZ7Ujd",
        "colab_type": "text"
      },
      "source": [
        "**Variables**"
      ]
    },
    {
      "cell_type": "code",
      "metadata": {
        "id": "PZ-DoyxH7WSq",
        "colab_type": "code",
        "colab": {
          "base_uri": "https://localhost:8080/",
          "height": 34
        },
        "outputId": "e6c7d410-9e00-4a4b-90c0-a0af56de77aa"
      },
      "source": [
        "name = 'John'\n",
        "age = 42\n",
        "\n",
        "x, y, z = 1, 2, 3\n",
        "\n",
        "print('Name: ' + name)"
      ],
      "execution_count": 4,
      "outputs": [
        {
          "output_type": "stream",
          "text": [
            "Name: John\n"
          ],
          "name": "stdout"
        }
      ]
    },
    {
      "cell_type": "markdown",
      "metadata": {
        "id": "G8TtGB3N7ZSE",
        "colab_type": "text"
      },
      "source": [
        "**Data Types**"
      ]
    },
    {
      "cell_type": "code",
      "metadata": {
        "id": "iotFWEk57agM",
        "colab_type": "code",
        "colab": {}
      },
      "source": [
        "# Text\n",
        "string = 'Hello World'\n",
        "\n",
        "# Numeric\n",
        "integer = 20\n",
        "float = 20.5\n",
        "complex = 1j\n",
        "\n",
        "# Sequence\n",
        "my_list = ['apple', 'banana', 'cherry']\n",
        "my_tuple = ('apple', 'banana', 'cherry') # Unchangeable\n",
        "\n",
        "# Mapping\n",
        "dictionary = {'name' : 'John', 'age' : 36}\n",
        "other_dictionary = dict(name='John', age=36)\n",
        "\n",
        "# Set - No duplicate members\n",
        "set_value = {\"apple\", \"banana\", \"cherry\"}\n",
        "frozenset_value = frozenset({\"apple\", \"banana\", \"cherry\"})\n",
        "\n",
        "# Boolean\n",
        "boolean = True\n",
        "bool(0) # Return a Boolean value\n",
        "\n",
        "# Binary\n",
        "my_bytes = b\"Hello\""
      ],
      "execution_count": 5,
      "outputs": []
    },
    {
      "cell_type": "code",
      "metadata": {
        "id": "M4kgxFxk8GaG",
        "colab_type": "code",
        "colab": {
          "base_uri": "https://localhost:8080/",
          "height": 34
        },
        "outputId": "4d8fcdd6-25a7-473c-bd28-147c28ce9880"
      },
      "source": [
        "# Convert an integer number to a binary\n",
        "print(bin(2))"
      ],
      "execution_count": 6,
      "outputs": [
        {
          "output_type": "stream",
          "text": [
            "0b10\n"
          ],
          "name": "stdout"
        }
      ]
    },
    {
      "cell_type": "code",
      "metadata": {
        "id": "UU1EIDks8KUT",
        "colab_type": "code",
        "colab": {
          "base_uri": "https://localhost:8080/",
          "height": 34
        },
        "outputId": "f394e297-467a-4634-abee-f1ca4c032b5c"
      },
      "source": [
        "# Convert an integer number to an octal\n",
        "print(oct(8))"
      ],
      "execution_count": 7,
      "outputs": [
        {
          "output_type": "stream",
          "text": [
            "0o10\n"
          ],
          "name": "stdout"
        }
      ]
    },
    {
      "cell_type": "code",
      "metadata": {
        "id": "BeyAQirc8MQp",
        "colab_type": "code",
        "colab": {
          "base_uri": "https://localhost:8080/",
          "height": 34
        },
        "outputId": "c197f7cd-521a-401a-fa17-45e0b4901753"
      },
      "source": [
        "print(type(string))"
      ],
      "execution_count": 8,
      "outputs": [
        {
          "output_type": "stream",
          "text": [
            "<class 'str'>\n"
          ],
          "name": "stdout"
        }
      ]
    },
    {
      "cell_type": "code",
      "metadata": {
        "id": "JlzDEc158Pdp",
        "colab_type": "code",
        "colab": {
          "base_uri": "https://localhost:8080/",
          "height": 34
        },
        "outputId": "f2280c89-4662-466c-9a57-0af4f6d9a239"
      },
      "source": [
        "print(int('1'))"
      ],
      "execution_count": 9,
      "outputs": [
        {
          "output_type": "stream",
          "text": [
            "1\n"
          ],
          "name": "stdout"
        }
      ]
    },
    {
      "cell_type": "code",
      "metadata": {
        "id": "6yN8uJDo8ScS",
        "colab_type": "code",
        "colab": {
          "base_uri": "https://localhost:8080/",
          "height": 34
        },
        "outputId": "28ec9cfc-ac1a-4461-a9d7-c898b6382f84"
      },
      "source": [
        "# Represents a null value\n",
        "x = None\n",
        "print(x) # None"
      ],
      "execution_count": 10,
      "outputs": [
        {
          "output_type": "stream",
          "text": [
            "None\n"
          ],
          "name": "stdout"
        }
      ]
    },
    {
      "cell_type": "markdown",
      "metadata": {
        "id": "Ki_-evek8g9Y",
        "colab_type": "text"
      },
      "source": [
        "## Strings"
      ]
    },
    {
      "cell_type": "code",
      "metadata": {
        "id": "n0Gtmes68ihx",
        "colab_type": "code",
        "colab": {
          "base_uri": "https://localhost:8080/",
          "height": 34
        },
        "outputId": "8e85a7da-4a92-41f7-f7b8-335a9bba89cf"
      },
      "source": [
        "hello = 'Hello, World! '\n",
        "print(hello[0])"
      ],
      "execution_count": 11,
      "outputs": [
        {
          "output_type": "stream",
          "text": [
            "H\n"
          ],
          "name": "stdout"
        }
      ]
    },
    {
      "cell_type": "code",
      "metadata": {
        "id": "UxAvDzvC8mBR",
        "colab_type": "code",
        "colab": {
          "base_uri": "https://localhost:8080/",
          "height": 34
        },
        "outputId": "0714ce62-2f50-4d53-8039-1a1891534814"
      },
      "source": [
        "print(hello[-2])"
      ],
      "execution_count": 12,
      "outputs": [
        {
          "output_type": "stream",
          "text": [
            "!\n"
          ],
          "name": "stdout"
        }
      ]
    },
    {
      "cell_type": "code",
      "metadata": {
        "id": "O2i6hLn78tDw",
        "colab_type": "code",
        "colab": {
          "base_uri": "https://localhost:8080/",
          "height": 34
        },
        "outputId": "2c5268ff-cbbf-4db4-adb0-f01b47448a5b"
      },
      "source": [
        "print(hello[2:5])"
      ],
      "execution_count": 13,
      "outputs": [
        {
          "output_type": "stream",
          "text": [
            "llo\n"
          ],
          "name": "stdout"
        }
      ]
    },
    {
      "cell_type": "code",
      "metadata": {
        "id": "iOGWD9TT8wQM",
        "colab_type": "code",
        "colab": {
          "base_uri": "https://localhost:8080/",
          "height": 34
        },
        "outputId": "905edb4f-0ba9-4ccb-f8de-c4be9b3ac39f"
      },
      "source": [
        "print(len(hello)) # returns the size of hello"
      ],
      "execution_count": 14,
      "outputs": [
        {
          "output_type": "stream",
          "text": [
            "14\n"
          ],
          "name": "stdout"
        }
      ]
    },
    {
      "cell_type": "code",
      "metadata": {
        "id": "DFt2XEB481u4",
        "colab_type": "code",
        "colab": {
          "base_uri": "https://localhost:8080/",
          "height": 34
        },
        "outputId": "cce9a887-a155-418e-a3a1-0df2762aae2a"
      },
      "source": [
        "print(hello.strip()) # removes whitespaces"
      ],
      "execution_count": 15,
      "outputs": [
        {
          "output_type": "stream",
          "text": [
            "Hello, World!\n"
          ],
          "name": "stdout"
        }
      ]
    },
    {
      "cell_type": "code",
      "metadata": {
        "id": "u-yfaZX386jR",
        "colab_type": "code",
        "colab": {
          "base_uri": "https://localhost:8080/",
          "height": 34
        },
        "outputId": "6ff7c689-d28d-4f27-bf5f-57ec9cb51830"
      },
      "source": [
        "print(hello.lower())"
      ],
      "execution_count": 16,
      "outputs": [
        {
          "output_type": "stream",
          "text": [
            "hello, world! \n"
          ],
          "name": "stdout"
        }
      ]
    },
    {
      "cell_type": "code",
      "metadata": {
        "id": "b4M3ACDG87Xh",
        "colab_type": "code",
        "colab": {
          "base_uri": "https://localhost:8080/",
          "height": 34
        },
        "outputId": "a41021d8-1b5b-416e-d808-38c61b64d20b"
      },
      "source": [
        "print(hello.upper())"
      ],
      "execution_count": 17,
      "outputs": [
        {
          "output_type": "stream",
          "text": [
            "HELLO, WORLD! \n"
          ],
          "name": "stdout"
        }
      ]
    },
    {
      "cell_type": "code",
      "metadata": {
        "id": "SbIe4Xwk89eS",
        "colab_type": "code",
        "colab": {
          "base_uri": "https://localhost:8080/",
          "height": 34
        },
        "outputId": "ed3784d2-6dfc-44f2-d12d-ee70c05c7225"
      },
      "source": [
        "print(hello.replace(\"H\", \"A\"))"
      ],
      "execution_count": 18,
      "outputs": [
        {
          "output_type": "stream",
          "text": [
            "Aello, World! \n"
          ],
          "name": "stdout"
        }
      ]
    },
    {
      "cell_type": "code",
      "metadata": {
        "id": "dFJqsnlz8_Ej",
        "colab_type": "code",
        "colab": {
          "base_uri": "https://localhost:8080/",
          "height": 34
        },
        "outputId": "30cc890d-e08c-4e20-a3ab-a8037bef3885"
      },
      "source": [
        "print(hello.split(\",\"))"
      ],
      "execution_count": 19,
      "outputs": [
        {
          "output_type": "stream",
          "text": [
            "['Hello', ' World! ']\n"
          ],
          "name": "stdout"
        }
      ]
    },
    {
      "cell_type": "code",
      "metadata": {
        "id": "PC3l_YeI9AkW",
        "colab_type": "code",
        "colab": {
          "base_uri": "https://localhost:8080/",
          "height": 51
        },
        "outputId": "0aa77f37-fc76-4fbf-863c-e8a51f6a0d82"
      },
      "source": [
        "# Membership Operators\n",
        "print(\"Hello\" in hello)\n",
        "print(\"Hello\" not in hello)"
      ],
      "execution_count": 20,
      "outputs": [
        {
          "output_type": "stream",
          "text": [
            "True\n",
            "False\n"
          ],
          "name": "stdout"
        }
      ]
    },
    {
      "cell_type": "code",
      "metadata": {
        "id": "_SlannlY9GQh",
        "colab_type": "code",
        "colab": {
          "base_uri": "https://localhost:8080/",
          "height": 34
        },
        "outputId": "7e232d2b-1d25-46ba-c7c3-d056d4ac5ecb"
      },
      "source": [
        "print('Hello, ' + 'World!')"
      ],
      "execution_count": 21,
      "outputs": [
        {
          "output_type": "stream",
          "text": [
            "Hello, World!\n"
          ],
          "name": "stdout"
        }
      ]
    },
    {
      "cell_type": "code",
      "metadata": {
        "id": "vRvrYJyJ9HEX",
        "colab_type": "code",
        "colab": {
          "base_uri": "https://localhost:8080/",
          "height": 34
        },
        "outputId": "65ea2a2b-3a44-4e24-d83d-08294bc4da4d"
      },
      "source": [
        "print('Hello, ' 'World!')"
      ],
      "execution_count": 22,
      "outputs": [
        {
          "output_type": "stream",
          "text": [
            "Hello, World!\n"
          ],
          "name": "stdout"
        }
      ]
    },
    {
      "cell_type": "code",
      "metadata": {
        "id": "kFhjB9yI9JqQ",
        "colab_type": "code",
        "colab": {
          "base_uri": "https://localhost:8080/",
          "height": 34
        },
        "outputId": "f5657204-8a7e-4fd1-dd9e-8f6196adbc5b"
      },
      "source": [
        "print(\"{0}, World!\".format('Hello'))"
      ],
      "execution_count": 23,
      "outputs": [
        {
          "output_type": "stream",
          "text": [
            "Hello, World!\n"
          ],
          "name": "stdout"
        }
      ]
    },
    {
      "cell_type": "code",
      "metadata": {
        "id": "s27Htl0f9Lap",
        "colab_type": "code",
        "colab": {
          "base_uri": "https://localhost:8080/",
          "height": 51
        },
        "outputId": "4a216e89-e304-4563-8ba6-4cc1589c7301"
      },
      "source": [
        "print('Hello, \\n World!')"
      ],
      "execution_count": 24,
      "outputs": [
        {
          "output_type": "stream",
          "text": [
            "Hello, \n",
            " World!\n"
          ],
          "name": "stdout"
        }
      ]
    },
    {
      "cell_type": "code",
      "metadata": {
        "id": "IDEaBAXT9NPR",
        "colab_type": "code",
        "colab": {
          "base_uri": "https://localhost:8080/",
          "height": 34
        },
        "outputId": "ff8c75c6-a518-4b49-e280-e91f8cf31cab"
      },
      "source": [
        "print(chr(97)) # Return the string representing a character"
      ],
      "execution_count": 25,
      "outputs": [
        {
          "output_type": "stream",
          "text": [
            "a\n"
          ],
          "name": "stdout"
        }
      ]
    },
    {
      "cell_type": "code",
      "metadata": {
        "id": "tN1jFCCH9Q7S",
        "colab_type": "code",
        "colab": {
          "base_uri": "https://localhost:8080/",
          "height": 34
        },
        "outputId": "94d98778-a9ea-4827-93bd-b69f533967c4"
      },
      "source": [
        "print(ord('a')) # Return an integer representing the Unicode"
      ],
      "execution_count": 26,
      "outputs": [
        {
          "output_type": "stream",
          "text": [
            "97\n"
          ],
          "name": "stdout"
        }
      ]
    },
    {
      "cell_type": "markdown",
      "metadata": {
        "id": "CamroSC1-3gL",
        "colab_type": "text"
      },
      "source": [
        "## Arithmetic"
      ]
    },
    {
      "cell_type": "code",
      "metadata": {
        "id": "P3NDAINl-6H0",
        "colab_type": "code",
        "colab": {
          "base_uri": "https://localhost:8080/",
          "height": 34
        },
        "outputId": "7183a5f5-25d6-4462-e296-87f99e631d84"
      },
      "source": [
        "x, y = 1, 2\n",
        "print(x + y) # Addition"
      ],
      "execution_count": 27,
      "outputs": [
        {
          "output_type": "stream",
          "text": [
            "3\n"
          ],
          "name": "stdout"
        }
      ]
    },
    {
      "cell_type": "code",
      "metadata": {
        "id": "2Nl9eBRa-9B6",
        "colab_type": "code",
        "colab": {
          "base_uri": "https://localhost:8080/",
          "height": 34
        },
        "outputId": "fab442e4-a168-4f65-f5b2-af4fe211bf36"
      },
      "source": [
        "print(x - y) # Subtraction"
      ],
      "execution_count": 28,
      "outputs": [
        {
          "output_type": "stream",
          "text": [
            "-1\n"
          ],
          "name": "stdout"
        }
      ]
    },
    {
      "cell_type": "code",
      "metadata": {
        "id": "MOtE63mK_A4M",
        "colab_type": "code",
        "colab": {
          "base_uri": "https://localhost:8080/",
          "height": 34
        },
        "outputId": "8a71ec24-01af-4a01-c4f1-6a05ca316b19"
      },
      "source": [
        "print(x * y) # Multiplication"
      ],
      "execution_count": 29,
      "outputs": [
        {
          "output_type": "stream",
          "text": [
            "2\n"
          ],
          "name": "stdout"
        }
      ]
    },
    {
      "cell_type": "code",
      "metadata": {
        "id": "-qBbKFgw_Cg_",
        "colab_type": "code",
        "colab": {
          "base_uri": "https://localhost:8080/",
          "height": 34
        },
        "outputId": "9dbf84e7-37b7-4308-98b9-a93ed5dc3479"
      },
      "source": [
        "print(x / y) # Division"
      ],
      "execution_count": 30,
      "outputs": [
        {
          "output_type": "stream",
          "text": [
            "0.5\n"
          ],
          "name": "stdout"
        }
      ]
    },
    {
      "cell_type": "code",
      "metadata": {
        "id": "Qu1a-OQS_EKi",
        "colab_type": "code",
        "colab": {
          "base_uri": "https://localhost:8080/",
          "height": 34
        },
        "outputId": "05bb4313-e7b7-4af3-a80e-1e11178168a1"
      },
      "source": [
        "print((50 - 5*6) / 4) # 5.0"
      ],
      "execution_count": 31,
      "outputs": [
        {
          "output_type": "stream",
          "text": [
            "5.0\n"
          ],
          "name": "stdout"
        }
      ]
    },
    {
      "cell_type": "code",
      "metadata": {
        "id": "DPRxB4Pb_Fxy",
        "colab_type": "code",
        "colab": {
          "base_uri": "https://localhost:8080/",
          "height": 34
        },
        "outputId": "649caa12-8c7e-4c73-de7e-db265813bfda"
      },
      "source": [
        "print(x % y) # Modulus"
      ],
      "execution_count": 32,
      "outputs": [
        {
          "output_type": "stream",
          "text": [
            "1\n"
          ],
          "name": "stdout"
        }
      ]
    },
    {
      "cell_type": "code",
      "metadata": {
        "id": "GBrC1v37_HU_",
        "colab_type": "code",
        "colab": {
          "base_uri": "https://localhost:8080/",
          "height": 34
        },
        "outputId": "eae03427-8cc8-4c09-bc8b-8fdfdfb754a5"
      },
      "source": [
        "print(x ** y) # Exponentiation"
      ],
      "execution_count": 33,
      "outputs": [
        {
          "output_type": "stream",
          "text": [
            "1\n"
          ],
          "name": "stdout"
        }
      ]
    },
    {
      "cell_type": "code",
      "metadata": {
        "id": "5RtkWd0Q_JZ2",
        "colab_type": "code",
        "colab": {
          "base_uri": "https://localhost:8080/",
          "height": 34
        },
        "outputId": "020ae9a1-a22c-4606-ae01-5a2281a0b441"
      },
      "source": [
        "print(x // y) # Floor division"
      ],
      "execution_count": 34,
      "outputs": [
        {
          "output_type": "stream",
          "text": [
            "0\n"
          ],
          "name": "stdout"
        }
      ]
    },
    {
      "cell_type": "code",
      "metadata": {
        "id": "i8iPP-ev_KvI",
        "colab_type": "code",
        "colab": {}
      },
      "source": [
        "x += 3 # Same as x = x + 3"
      ],
      "execution_count": 35,
      "outputs": []
    },
    {
      "cell_type": "markdown",
      "metadata": {
        "id": "0ylkvUcA_NbG",
        "colab_type": "text"
      },
      "source": [
        "## Comparison"
      ]
    },
    {
      "cell_type": "code",
      "metadata": {
        "id": "37gNaeb4_Psp",
        "colab_type": "code",
        "colab": {
          "base_uri": "https://localhost:8080/",
          "height": 34
        },
        "outputId": "7d6f4281-4052-4fc8-9615-371b239b6fba"
      },
      "source": [
        "x, y = 1, 2\n",
        "print(x == y) # Equal"
      ],
      "execution_count": 36,
      "outputs": [
        {
          "output_type": "stream",
          "text": [
            "False\n"
          ],
          "name": "stdout"
        }
      ]
    },
    {
      "cell_type": "code",
      "metadata": {
        "id": "OF-Kb2Hk_SHp",
        "colab_type": "code",
        "colab": {
          "base_uri": "https://localhost:8080/",
          "height": 34
        },
        "outputId": "f6bd821b-0784-461b-f030-8d430319a20c"
      },
      "source": [
        "print(x != y) # Not equal"
      ],
      "execution_count": 37,
      "outputs": [
        {
          "output_type": "stream",
          "text": [
            "True\n"
          ],
          "name": "stdout"
        }
      ]
    },
    {
      "cell_type": "code",
      "metadata": {
        "id": "5H3FO2xj_TfB",
        "colab_type": "code",
        "colab": {
          "base_uri": "https://localhost:8080/",
          "height": 34
        },
        "outputId": "43215215-1b24-43af-aeda-7a26ea9bab2f"
      },
      "source": [
        "print(x > y) # Greater than"
      ],
      "execution_count": 38,
      "outputs": [
        {
          "output_type": "stream",
          "text": [
            "False\n"
          ],
          "name": "stdout"
        }
      ]
    },
    {
      "cell_type": "code",
      "metadata": {
        "id": "4GmGv1Bs_V3k",
        "colab_type": "code",
        "colab": {
          "base_uri": "https://localhost:8080/",
          "height": 34
        },
        "outputId": "5e4165b4-1c30-44fc-ebe5-c670305f57e9"
      },
      "source": [
        "print(x < y) # Less than"
      ],
      "execution_count": 39,
      "outputs": [
        {
          "output_type": "stream",
          "text": [
            "True\n"
          ],
          "name": "stdout"
        }
      ]
    },
    {
      "cell_type": "code",
      "metadata": {
        "id": "neN-lpCE_WjB",
        "colab_type": "code",
        "colab": {
          "base_uri": "https://localhost:8080/",
          "height": 34
        },
        "outputId": "42fef44d-c60a-4675-a315-fa082022b651"
      },
      "source": [
        "print(x >= y) # Greater than or equal to"
      ],
      "execution_count": 40,
      "outputs": [
        {
          "output_type": "stream",
          "text": [
            "False\n"
          ],
          "name": "stdout"
        }
      ]
    },
    {
      "cell_type": "code",
      "metadata": {
        "id": "Id3-i3_H_YQf",
        "colab_type": "code",
        "colab": {
          "base_uri": "https://localhost:8080/",
          "height": 34
        },
        "outputId": "ee406863-8a93-44ad-c32a-c4e275267c37"
      },
      "source": [
        "print(x <= y) # Less than or equal to"
      ],
      "execution_count": 41,
      "outputs": [
        {
          "output_type": "stream",
          "text": [
            "True\n"
          ],
          "name": "stdout"
        }
      ]
    },
    {
      "cell_type": "code",
      "metadata": {
        "id": "d4IsbMVB_aBo",
        "colab_type": "code",
        "colab": {
          "base_uri": "https://localhost:8080/",
          "height": 34
        },
        "outputId": "81515b90-973b-490e-a944-1cc5f5fef656"
      },
      "source": [
        "if x > y:\n",
        "  print(\"x is greater than y\")\n",
        "else:\n",
        "  print(\"x is not greater than y\")"
      ],
      "execution_count": 42,
      "outputs": [
        {
          "output_type": "stream",
          "text": [
            "x is not greater than y\n"
          ],
          "name": "stdout"
        }
      ]
    },
    {
      "cell_type": "code",
      "metadata": {
        "id": "8yPvkkFR_ffj",
        "colab_type": "code",
        "colab": {}
      },
      "source": [
        "# Assert is used when debugging code\n",
        "assert x == 1 # AssertionError is not raised"
      ],
      "execution_count": 43,
      "outputs": []
    },
    {
      "cell_type": "markdown",
      "metadata": {
        "id": "Xv237JGs_rIR",
        "colab_type": "text"
      },
      "source": [
        "## Logical"
      ]
    },
    {
      "cell_type": "code",
      "metadata": {
        "id": "F-y7Eu03_umm",
        "colab_type": "code",
        "colab": {
          "base_uri": "https://localhost:8080/",
          "height": 34
        },
        "outputId": "f858e155-1302-40c2-a9c7-953c194d5b7f"
      },
      "source": [
        "x = 2\n",
        "print(x == 2 and x > 42)"
      ],
      "execution_count": 44,
      "outputs": [
        {
          "output_type": "stream",
          "text": [
            "False\n"
          ],
          "name": "stdout"
        }
      ]
    },
    {
      "cell_type": "code",
      "metadata": {
        "id": "pgjElYHv_xp2",
        "colab_type": "code",
        "colab": {
          "base_uri": "https://localhost:8080/",
          "height": 34
        },
        "outputId": "70812e4a-d096-44c3-caaf-62801fa3eced"
      },
      "source": [
        "print(x == 2 or x > 42)"
      ],
      "execution_count": 45,
      "outputs": [
        {
          "output_type": "stream",
          "text": [
            "True\n"
          ],
          "name": "stdout"
        }
      ]
    },
    {
      "cell_type": "code",
      "metadata": {
        "id": "17sfKffz_zbf",
        "colab_type": "code",
        "colab": {
          "base_uri": "https://localhost:8080/",
          "height": 34
        },
        "outputId": "0b717f15-c7bf-4fc1-dd26-ff559363a4c2"
      },
      "source": [
        "print(not(True))"
      ],
      "execution_count": 46,
      "outputs": [
        {
          "output_type": "stream",
          "text": [
            "False\n"
          ],
          "name": "stdout"
        }
      ]
    },
    {
      "cell_type": "code",
      "metadata": {
        "id": "iohQxagh_1A-",
        "colab_type": "code",
        "colab": {
          "base_uri": "https://localhost:8080/",
          "height": 34
        },
        "outputId": "87ab2def-fa4d-4cae-821d-85266434b6d6"
      },
      "source": [
        "print(not(False))"
      ],
      "execution_count": 47,
      "outputs": [
        {
          "output_type": "stream",
          "text": [
            "True\n"
          ],
          "name": "stdout"
        }
      ]
    },
    {
      "cell_type": "markdown",
      "metadata": {
        "id": "kJGDfVPs_3Y7",
        "colab_type": "text"
      },
      "source": [
        "# Identity"
      ]
    },
    {
      "cell_type": "code",
      "metadata": {
        "id": "QURkrB-m_4wA",
        "colab_type": "code",
        "colab": {
          "base_uri": "https://localhost:8080/",
          "height": 34
        },
        "outputId": "d9827e50-45a4-4f9c-efd2-b333b18e4e96"
      },
      "source": [
        "x = 'Hello'\n",
        "z = x\n",
        "y = 'World'\n",
        "\n",
        "print(x is z)"
      ],
      "execution_count": 48,
      "outputs": [
        {
          "output_type": "stream",
          "text": [
            "True\n"
          ],
          "name": "stdout"
        }
      ]
    },
    {
      "cell_type": "code",
      "metadata": {
        "id": "zG-0JuVK_9YQ",
        "colab_type": "code",
        "colab": {
          "base_uri": "https://localhost:8080/",
          "height": 34
        },
        "outputId": "028dba90-28a9-4bf2-f16d-e7b178e0107c"
      },
      "source": [
        "print(x is y)"
      ],
      "execution_count": 49,
      "outputs": [
        {
          "output_type": "stream",
          "text": [
            "False\n"
          ],
          "name": "stdout"
        }
      ]
    },
    {
      "cell_type": "code",
      "metadata": {
        "id": "zKiAbuDo_-4f",
        "colab_type": "code",
        "colab": {
          "base_uri": "https://localhost:8080/",
          "height": 34
        },
        "outputId": "efbbea27-6328-4bad-bc39-95e6484c9ebd"
      },
      "source": [
        "print(x == y)"
      ],
      "execution_count": 50,
      "outputs": [
        {
          "output_type": "stream",
          "text": [
            "False\n"
          ],
          "name": "stdout"
        }
      ]
    },
    {
      "cell_type": "markdown",
      "metadata": {
        "id": "GjMhGBAnRICt",
        "colab_type": "text"
      },
      "source": [
        "# 👪 Lists\n",
        "\n",
        "List is used to group together other values."
      ]
    },
    {
      "cell_type": "code",
      "metadata": {
        "id": "p0saMqzFRMi4",
        "colab_type": "code",
        "colab": {
          "base_uri": "https://localhost:8080/",
          "height": 34
        },
        "outputId": "f5ba8afe-081d-4d48-da05-a4e614465085"
      },
      "source": [
        "mylist = ['hello', 'world']\n",
        "print(mylist)"
      ],
      "execution_count": 51,
      "outputs": [
        {
          "output_type": "stream",
          "text": [
            "['hello', 'world']\n"
          ],
          "name": "stdout"
        }
      ]
    },
    {
      "cell_type": "code",
      "metadata": {
        "id": "32kEXOv9RRoy",
        "colab_type": "code",
        "colab": {
          "base_uri": "https://localhost:8080/",
          "height": 34
        },
        "outputId": "bf1058b4-49aa-4c21-e5eb-33ef8850c907"
      },
      "source": [
        "print(mylist[0])"
      ],
      "execution_count": 52,
      "outputs": [
        {
          "output_type": "stream",
          "text": [
            "hello\n"
          ],
          "name": "stdout"
        }
      ]
    },
    {
      "cell_type": "code",
      "metadata": {
        "id": "USAzKvdGRUCU",
        "colab_type": "code",
        "colab": {
          "base_uri": "https://localhost:8080/",
          "height": 34
        },
        "outputId": "aaece8d5-62ba-403e-818c-f3bf12d8a78e"
      },
      "source": [
        "print(mylist[-1])"
      ],
      "execution_count": 53,
      "outputs": [
        {
          "output_type": "stream",
          "text": [
            "world\n"
          ],
          "name": "stdout"
        }
      ]
    },
    {
      "cell_type": "code",
      "metadata": {
        "id": "CpDL0pJTRVqp",
        "colab_type": "code",
        "colab": {
          "base_uri": "https://localhost:8080/",
          "height": 34
        },
        "outputId": "7527083d-cf56-4037-cdd1-53ec6004858b"
      },
      "source": [
        "print(mylist[0:1])"
      ],
      "execution_count": 54,
      "outputs": [
        {
          "output_type": "stream",
          "text": [
            "['hello']\n"
          ],
          "name": "stdout"
        }
      ]
    },
    {
      "cell_type": "code",
      "metadata": {
        "id": "ORc2asvjRW4b",
        "colab_type": "code",
        "colab": {
          "base_uri": "https://localhost:8080/",
          "height": 34
        },
        "outputId": "9b675ffa-2bf5-4f36-9871-63fc1ad871e5"
      },
      "source": [
        "print(mylist[:1])"
      ],
      "execution_count": 55,
      "outputs": [
        {
          "output_type": "stream",
          "text": [
            "['hello']\n"
          ],
          "name": "stdout"
        }
      ]
    },
    {
      "cell_type": "code",
      "metadata": {
        "id": "f6DdDedgRYEy",
        "colab_type": "code",
        "colab": {
          "base_uri": "https://localhost:8080/",
          "height": 34
        },
        "outputId": "4897b216-e470-40aa-a8fb-37ead636e1d3"
      },
      "source": [
        "print(mylist[0:])"
      ],
      "execution_count": 56,
      "outputs": [
        {
          "output_type": "stream",
          "text": [
            "['hello', 'world']\n"
          ],
          "name": "stdout"
        }
      ]
    },
    {
      "cell_type": "code",
      "metadata": {
        "id": "IcIQXAwoRZgU",
        "colab_type": "code",
        "colab": {
          "base_uri": "https://localhost:8080/",
          "height": 34
        },
        "outputId": "f18a0a8d-d25f-48e2-efd3-565ffdcad5fd"
      },
      "source": [
        "mylist[1] = \"!\"\n",
        "print(mylist)"
      ],
      "execution_count": 58,
      "outputs": [
        {
          "output_type": "stream",
          "text": [
            "['hello', '!']\n"
          ],
          "name": "stdout"
        }
      ]
    },
    {
      "cell_type": "code",
      "metadata": {
        "id": "LOZTSe4JRb8T",
        "colab_type": "code",
        "colab": {
          "base_uri": "https://localhost:8080/",
          "height": 51
        },
        "outputId": "3a6324c6-4164-4899-cdc4-3640ba2126dd"
      },
      "source": [
        "for item in mylist:\n",
        "  print(item)"
      ],
      "execution_count": 60,
      "outputs": [
        {
          "output_type": "stream",
          "text": [
            "hello\n",
            "!\n"
          ],
          "name": "stdout"
        }
      ]
    },
    {
      "cell_type": "code",
      "metadata": {
        "id": "GUi9wAjnRh2L",
        "colab_type": "code",
        "colab": {
          "base_uri": "https://localhost:8080/",
          "height": 34
        },
        "outputId": "ca3ccef9-ece4-4668-b008-d5ae7cb52552"
      },
      "source": [
        "if \"hello\" in mylist:\n",
        "  print(\"Yes, 'hello' is in the mylist\")"
      ],
      "execution_count": 63,
      "outputs": [
        {
          "output_type": "stream",
          "text": [
            "Yes, 'hello' is in the mylist\n"
          ],
          "name": "stdout"
        }
      ]
    },
    {
      "cell_type": "code",
      "metadata": {
        "id": "5f37hAzyRrd-",
        "colab_type": "code",
        "colab": {
          "base_uri": "https://localhost:8080/",
          "height": 34
        },
        "outputId": "bbff115d-791f-49b6-eae1-fccfb587dc87"
      },
      "source": [
        "print(len(mylist))"
      ],
      "execution_count": 65,
      "outputs": [
        {
          "output_type": "stream",
          "text": [
            "2\n"
          ],
          "name": "stdout"
        }
      ]
    },
    {
      "cell_type": "code",
      "metadata": {
        "id": "iHRBvBC9RvnF",
        "colab_type": "code",
        "colab": {
          "base_uri": "https://localhost:8080/",
          "height": 34
        },
        "outputId": "46e37980-e925-474c-e8a9-596003a225c7"
      },
      "source": [
        "mylist.append(\"world\") # Adds an element\n",
        "print(mylist)"
      ],
      "execution_count": 70,
      "outputs": [
        {
          "output_type": "stream",
          "text": [
            "['world', 'world']\n"
          ],
          "name": "stdout"
        }
      ]
    },
    {
      "cell_type": "code",
      "metadata": {
        "id": "PFyWeBpZR8Ay",
        "colab_type": "code",
        "colab": {
          "base_uri": "https://localhost:8080/",
          "height": 34
        },
        "outputId": "d1ffb8ba-6574-4623-bf79-e5a07b073ca4"
      },
      "source": [
        "mylist.clear() # Removes all the elements\n",
        "print(mylist)"
      ],
      "execution_count": 72,
      "outputs": [
        {
          "output_type": "stream",
          "text": [
            "[]\n"
          ],
          "name": "stdout"
        }
      ]
    },
    {
      "cell_type": "code",
      "metadata": {
        "id": "Xp5INxs4THqx",
        "colab_type": "code",
        "colab": {}
      },
      "source": [
        "mylist = ['hello', 'world']\n",
        "my_other_list = mylist.copy() # Returns a copy of the list"
      ],
      "execution_count": 75,
      "outputs": []
    },
    {
      "cell_type": "code",
      "metadata": {
        "id": "0cqFO19ETRbm",
        "colab_type": "code",
        "colab": {
          "base_uri": "https://localhost:8080/",
          "height": 34
        },
        "outputId": "a448045b-eedb-426e-b78c-892734835d6a"
      },
      "source": [
        "my_other_list.count('hello') # Return the number of times the value \"hello\" appears"
      ],
      "execution_count": 79,
      "outputs": [
        {
          "output_type": "execute_result",
          "data": {
            "text/plain": [
              "1"
            ]
          },
          "metadata": {
            "tags": []
          },
          "execution_count": 79
        }
      ]
    },
    {
      "cell_type": "code",
      "metadata": {
        "id": "_izGl5TKTnJw",
        "colab_type": "code",
        "colab": {
          "base_uri": "https://localhost:8080/",
          "height": 34
        },
        "outputId": "b31b663d-baf0-4aac-e78a-85ac4a903aa4"
      },
      "source": [
        "mylist.extend(['apple']) # Add the elements of a list\n",
        "print(mylist)"
      ],
      "execution_count": 81,
      "outputs": [
        {
          "output_type": "stream",
          "text": [
            "['hello', 'world', 'apple', 'apple']\n"
          ],
          "name": "stdout"
        }
      ]
    },
    {
      "cell_type": "code",
      "metadata": {
        "id": "JRs90BllTsCj",
        "colab_type": "code",
        "colab": {
          "base_uri": "https://localhost:8080/",
          "height": 34
        },
        "outputId": "a8342440-5218-48f7-dbb4-e69ad60ef289"
      },
      "source": [
        "mylist.index('world')"
      ],
      "execution_count": 85,
      "outputs": [
        {
          "output_type": "execute_result",
          "data": {
            "text/plain": [
              "1"
            ]
          },
          "metadata": {
            "tags": []
          },
          "execution_count": 85
        }
      ]
    },
    {
      "cell_type": "code",
      "metadata": {
        "id": "D0SCR4QeWo32",
        "colab_type": "code",
        "colab": {
          "base_uri": "https://localhost:8080/",
          "height": 34
        },
        "outputId": "2f818071-781c-4d1a-c93b-bfcfcb1d3b95"
      },
      "source": [
        "mylist.insert(1, \"cucumber\") # Adds an element at the specified position\n",
        "print(mylist)"
      ],
      "execution_count": 87,
      "outputs": [
        {
          "output_type": "stream",
          "text": [
            "['hello', 'cucumber', 'cucumber', 'world', 'apple', 'apple']\n"
          ],
          "name": "stdout"
        }
      ]
    },
    {
      "cell_type": "code",
      "metadata": {
        "id": "wBiRn19fW-3b",
        "colab_type": "code",
        "colab": {
          "base_uri": "https://localhost:8080/",
          "height": 35
        },
        "outputId": "fbfb94ad-9410-42d6-e4a7-8cd9e41dddbc"
      },
      "source": [
        "mylist.pop() # Removes the last item from the list"
      ],
      "execution_count": 90,
      "outputs": [
        {
          "output_type": "execute_result",
          "data": {
            "application/vnd.google.colaboratory.intrinsic+json": {
              "type": "string"
            },
            "text/plain": [
              "'apple'"
            ]
          },
          "metadata": {
            "tags": []
          },
          "execution_count": 90
        }
      ]
    },
    {
      "cell_type": "code",
      "metadata": {
        "id": "7B017CYHXL4u",
        "colab_type": "code",
        "colab": {
          "base_uri": "https://localhost:8080/",
          "height": 34
        },
        "outputId": "98b7a6b6-230e-4682-b9af-7aadfd7fd4ce"
      },
      "source": [
        "mylist.remove(\"cucumber\")\n",
        "print(mylist)"
      ],
      "execution_count": 93,
      "outputs": [
        {
          "output_type": "stream",
          "text": [
            "['hello', 'world']\n"
          ],
          "name": "stdout"
        }
      ]
    },
    {
      "cell_type": "code",
      "metadata": {
        "id": "OPDPO0SqXTi1",
        "colab_type": "code",
        "colab": {
          "base_uri": "https://localhost:8080/",
          "height": 51
        },
        "outputId": "ac98be14-542e-4357-b4ab-6eb8848a64ee"
      },
      "source": [
        "my_number_list = [ 1, 2, 3]\n",
        "my_number_list.reverse()\n",
        "print(my_number_list)\n",
        "my_number_list.sort()\n",
        "print(my_number_list)"
      ],
      "execution_count": 104,
      "outputs": [
        {
          "output_type": "stream",
          "text": [
            "[3, 2, 1]\n",
            "[1, 2, 3]\n"
          ],
          "name": "stdout"
        }
      ]
    },
    {
      "cell_type": "code",
      "metadata": {
        "id": "OMdsv501XjYZ",
        "colab_type": "code",
        "colab": {
          "base_uri": "https://localhost:8080/",
          "height": 34
        },
        "outputId": "e35fe6b2-fc1f-4664-b2c8-6e2ca4a546f6"
      },
      "source": [
        "del my_number_list[0]\n",
        "print(my_number_list)"
      ],
      "execution_count": 98,
      "outputs": [
        {
          "output_type": "stream",
          "text": [
            "[2, 3]\n"
          ],
          "name": "stdout"
        }
      ]
    },
    {
      "cell_type": "code",
      "metadata": {
        "id": "YRato6ioXpjp",
        "colab_type": "code",
        "colab": {
          "base_uri": "https://localhost:8080/",
          "height": 34
        },
        "outputId": "39e327e7-fbd9-47b9-a38c-adb7a275e0e8"
      },
      "source": [
        "all(my_number_list) # Return True if all elements of the iterable are true"
      ],
      "execution_count": 99,
      "outputs": [
        {
          "output_type": "execute_result",
          "data": {
            "text/plain": [
              "True"
            ]
          },
          "metadata": {
            "tags": []
          },
          "execution_count": 99
        }
      ]
    },
    {
      "cell_type": "code",
      "metadata": {
        "id": "viC2FjK0XvVU",
        "colab_type": "code",
        "colab": {
          "base_uri": "https://localhost:8080/",
          "height": 51
        },
        "outputId": "db1675ae-dc36-4072-8058-f34f6a28bab7"
      },
      "source": [
        "print(any(my_number_list)) # If the iterable is empty, return False\n",
        "my_number_list.clear()\n",
        "print(any(my_number_list))"
      ],
      "execution_count": 105,
      "outputs": [
        {
          "output_type": "stream",
          "text": [
            "True\n",
            "False\n"
          ],
          "name": "stdout"
        }
      ]
    },
    {
      "cell_type": "code",
      "metadata": {
        "id": "yEQ2loNBYCmA",
        "colab_type": "code",
        "colab": {
          "base_uri": "https://localhost:8080/",
          "height": 34
        },
        "outputId": "43ea72f6-7633-4d35-d3ed-986020b7a780"
      },
      "source": [
        "letters = [ 'a', 'b', 'c' ]\n",
        "numbers = [ 1, 2, 3 ]\n",
        "print(letters + numbers)"
      ],
      "execution_count": 106,
      "outputs": [
        {
          "output_type": "stream",
          "text": [
            "['a', 'b', 'c', 1, 2, 3]\n"
          ],
          "name": "stdout"
        }
      ]
    },
    {
      "cell_type": "code",
      "metadata": {
        "id": "_s2Zu5AyYPOG",
        "colab_type": "code",
        "colab": {
          "base_uri": "https://localhost:8080/",
          "height": 34
        },
        "outputId": "653fff26-8850-4fbc-ccb4-4b6d739fe1c7"
      },
      "source": [
        "mylist = list((\"apple\", \"banana\", \"cherry\"))\n",
        "print(mylist)"
      ],
      "execution_count": 108,
      "outputs": [
        {
          "output_type": "stream",
          "text": [
            "['apple', 'banana', 'cherry']\n"
          ],
          "name": "stdout"
        }
      ]
    }
  ]
}