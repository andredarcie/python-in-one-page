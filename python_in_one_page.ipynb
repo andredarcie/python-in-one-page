{
  "nbformat": 4,
  "nbformat_minor": 0,
  "metadata": {
    "colab": {
      "name": "python-in-one-page.ipynb",
      "provenance": [],
      "authorship_tag": "ABX9TyOpyP99uNpvTPg9qbradqNv",
      "include_colab_link": true
    },
    "kernelspec": {
      "name": "python3",
      "display_name": "Python 3"
    }
  },
  "cells": [
    {
      "cell_type": "markdown",
      "metadata": {
        "id": "view-in-github",
        "colab_type": "text"
      },
      "source": [
        "<a href=\"https://colab.research.google.com/github/andredarcie/python-in-one-page/blob/master/python_in_one_page.ipynb\" target=\"_parent\"><img src=\"https://colab.research.google.com/assets/colab-badge.svg\" alt=\"Open In Colab\"/></a>"
      ]
    },
    {
      "cell_type": "markdown",
      "metadata": {
        "id": "Ufmoz5FB7IBt",
        "colab_type": "text"
      },
      "source": [
        "# Python in one page"
      ]
    },
    {
      "cell_type": "markdown",
      "metadata": {
        "id": "dJIZpYWK7Qkp",
        "colab_type": "text"
      },
      "source": [
        "## What is Python?\n",
        "\n",
        "Python is a popular programming language. It was created by Guido van Rossum, and released in 1991.\n",
        "\n",
        "To focus on the language itself this guide not includes any built-in modules like math, random, datetime, json, re, random, etc"
      ]
    },
    {
      "cell_type": "markdown",
      "metadata": {
        "id": "1Rwa7_m_7aXn",
        "colab_type": "text"
      },
      "source": [
        "Make a simple hello world"
      ]
    },
    {
      "cell_type": "code",
      "metadata": {
        "id": "mjkYYWFp7DSp",
        "colab_type": "code",
        "colab": {
          "base_uri": "https://localhost:8080/",
          "height": 34
        },
        "outputId": "34e23f31-6011-45d5-baf9-7e021734c178"
      },
      "source": [
        "print('Hello, World!')"
      ],
      "execution_count": 2,
      "outputs": [
        {
          "output_type": "stream",
          "text": [
            "Hello, World!\n"
          ],
          "name": "stdout"
        }
      ]
    },
    {
      "cell_type": "markdown",
      "metadata": {
        "id": "6752HQqs7AjA",
        "colab_type": "text"
      },
      "source": [
        "Help"
      ]
    },
    {
      "cell_type": "code",
      "metadata": {
        "id": "z6z6XqsJ7DE2",
        "colab_type": "code",
        "colab": {
          "base_uri": "https://localhost:8080/",
          "height": 221
        },
        "outputId": "09e9936e-75e5-44a8-8bc2-9de8958968e1"
      },
      "source": [
        "help(print)"
      ],
      "execution_count": 3,
      "outputs": [
        {
          "output_type": "stream",
          "text": [
            "Help on built-in function print in module builtins:\n",
            "\n",
            "print(...)\n",
            "    print(value, ..., sep=' ', end='\\n', file=sys.stdout, flush=False)\n",
            "    \n",
            "    Prints the values to a stream, or to sys.stdout by default.\n",
            "    Optional keyword arguments:\n",
            "    file:  a file-like object (stream); defaults to the current sys.stdout.\n",
            "    sep:   string inserted between values, default a space.\n",
            "    end:   string appended after the last value, default a newline.\n",
            "    flush: whether to forcibly flush the stream.\n",
            "\n"
          ],
          "name": "stdout"
        }
      ]
    },
    {
      "cell_type": "markdown",
      "metadata": {
        "id": "6rVqe_fh7MX1",
        "colab_type": "text"
      },
      "source": [
        "Comments"
      ]
    },
    {
      "cell_type": "code",
      "metadata": {
        "id": "IGRidkbj7OjW",
        "colab_type": "code",
        "colab": {}
      },
      "source": [
        "#This is a comment"
      ],
      "execution_count": 4,
      "outputs": []
    },
    {
      "cell_type": "markdown",
      "metadata": {
        "id": "ziFHPhcZ7Ujd",
        "colab_type": "text"
      },
      "source": [
        "Variables"
      ]
    },
    {
      "cell_type": "code",
      "metadata": {
        "id": "PZ-DoyxH7WSq",
        "colab_type": "code",
        "colab": {
          "base_uri": "https://localhost:8080/",
          "height": 34
        },
        "outputId": "e9a3d2a4-8bfb-4321-d273-244104d3a963"
      },
      "source": [
        "name = 'John'\n",
        "age = 42\n",
        "\n",
        "x, y, z = 1, 2, 3\n",
        "\n",
        "print('Name: ' + name)"
      ],
      "execution_count": 5,
      "outputs": [
        {
          "output_type": "stream",
          "text": [
            "Name: John\n"
          ],
          "name": "stdout"
        }
      ]
    },
    {
      "cell_type": "markdown",
      "metadata": {
        "id": "G8TtGB3N7ZSE",
        "colab_type": "text"
      },
      "source": [
        "Data Types"
      ]
    },
    {
      "cell_type": "code",
      "metadata": {
        "id": "iotFWEk57agM",
        "colab_type": "code",
        "colab": {}
      },
      "source": [
        "# Text\n",
        "string = 'Hello World'\n",
        "\n",
        "# Numeric\n",
        "integer = 20\n",
        "float = 20.5\n",
        "complex = 1j\n",
        "\n",
        "# Sequence\n",
        "my_list = ['apple', 'banana', 'cherry']\n",
        "my_tuple = ('apple', 'banana', 'cherry') # Unchangeable\n",
        "\n",
        "# Mapping\n",
        "dictionary = {'name' : 'John', 'age' : 36}\n",
        "other_dictionary = dict(name='John', age=36)\n",
        "\n",
        "# Set - No duplicate members\n",
        "set_value = {\"apple\", \"banana\", \"cherry\"}\n",
        "frozenset_value = frozenset({\"apple\", \"banana\", \"cherry\"})\n",
        "\n",
        "# Boolean\n",
        "boolean = True\n",
        "bool(0) # Return a Boolean value\n",
        "\n",
        "# Binary\n",
        "my_bytes = b\"Hello\""
      ],
      "execution_count": 15,
      "outputs": []
    },
    {
      "cell_type": "code",
      "metadata": {
        "id": "M4kgxFxk8GaG",
        "colab_type": "code",
        "colab": {
          "base_uri": "https://localhost:8080/",
          "height": 34
        },
        "outputId": "48736257-a399-493b-a5a4-ec4a2d4f3052"
      },
      "source": [
        "# Convert an integer number to a binary\n",
        "print(bin(2))"
      ],
      "execution_count": 16,
      "outputs": [
        {
          "output_type": "stream",
          "text": [
            "0b10\n"
          ],
          "name": "stdout"
        }
      ]
    },
    {
      "cell_type": "code",
      "metadata": {
        "id": "UU1EIDks8KUT",
        "colab_type": "code",
        "colab": {
          "base_uri": "https://localhost:8080/",
          "height": 34
        },
        "outputId": "f69feca4-9531-4f61-e7f4-4e861ae32ada"
      },
      "source": [
        "# Convert an integer number to an octal\n",
        "print(oct(8))"
      ],
      "execution_count": 17,
      "outputs": [
        {
          "output_type": "stream",
          "text": [
            "0o10\n"
          ],
          "name": "stdout"
        }
      ]
    },
    {
      "cell_type": "code",
      "metadata": {
        "id": "BeyAQirc8MQp",
        "colab_type": "code",
        "colab": {
          "base_uri": "https://localhost:8080/",
          "height": 34
        },
        "outputId": "ffbb34d4-e117-412f-a797-64c61d48d7c0"
      },
      "source": [
        "print(type(string))"
      ],
      "execution_count": 18,
      "outputs": [
        {
          "output_type": "stream",
          "text": [
            "<class 'str'>\n"
          ],
          "name": "stdout"
        }
      ]
    },
    {
      "cell_type": "code",
      "metadata": {
        "id": "JlzDEc158Pdp",
        "colab_type": "code",
        "colab": {
          "base_uri": "https://localhost:8080/",
          "height": 34
        },
        "outputId": "7cffed2b-1875-46cf-c701-55da96e95814"
      },
      "source": [
        "print(int('1'))"
      ],
      "execution_count": 19,
      "outputs": [
        {
          "output_type": "stream",
          "text": [
            "1\n"
          ],
          "name": "stdout"
        }
      ]
    },
    {
      "cell_type": "code",
      "metadata": {
        "id": "6yN8uJDo8ScS",
        "colab_type": "code",
        "colab": {
          "base_uri": "https://localhost:8080/",
          "height": 34
        },
        "outputId": "6d332865-5cdf-4e22-e3df-ae74cb6dab51"
      },
      "source": [
        "# Represents a null value\n",
        "x = None\n",
        "print(x) # None"
      ],
      "execution_count": 20,
      "outputs": [
        {
          "output_type": "stream",
          "text": [
            "None\n"
          ],
          "name": "stdout"
        }
      ]
    },
    {
      "cell_type": "markdown",
      "metadata": {
        "id": "Ki_-evek8g9Y",
        "colab_type": "text"
      },
      "source": [
        "## Strings"
      ]
    },
    {
      "cell_type": "code",
      "metadata": {
        "id": "n0Gtmes68ihx",
        "colab_type": "code",
        "colab": {
          "base_uri": "https://localhost:8080/",
          "height": 34
        },
        "outputId": "34c7be75-c532-4e2c-f7da-f1cf11aeef95"
      },
      "source": [
        "hello = 'Hello, World! '\n",
        "print(hello[0])"
      ],
      "execution_count": 23,
      "outputs": [
        {
          "output_type": "stream",
          "text": [
            "H\n"
          ],
          "name": "stdout"
        }
      ]
    },
    {
      "cell_type": "code",
      "metadata": {
        "id": "UxAvDzvC8mBR",
        "colab_type": "code",
        "colab": {
          "base_uri": "https://localhost:8080/",
          "height": 34
        },
        "outputId": "1ebbbaae-9b7d-49e9-b5a0-8532bed21163"
      },
      "source": [
        "print(hello[-2])"
      ],
      "execution_count": 25,
      "outputs": [
        {
          "output_type": "stream",
          "text": [
            "!\n"
          ],
          "name": "stdout"
        }
      ]
    },
    {
      "cell_type": "code",
      "metadata": {
        "id": "O2i6hLn78tDw",
        "colab_type": "code",
        "colab": {
          "base_uri": "https://localhost:8080/",
          "height": 34
        },
        "outputId": "7b7aa71f-7fbf-44d9-f7c2-015b576de5db"
      },
      "source": [
        "print(hello[2:5])"
      ],
      "execution_count": 26,
      "outputs": [
        {
          "output_type": "stream",
          "text": [
            "llo\n"
          ],
          "name": "stdout"
        }
      ]
    },
    {
      "cell_type": "code",
      "metadata": {
        "id": "iOGWD9TT8wQM",
        "colab_type": "code",
        "colab": {
          "base_uri": "https://localhost:8080/",
          "height": 34
        },
        "outputId": "cf5578ef-6fc4-4ea8-9e9c-212dd9936bb4"
      },
      "source": [
        "print(len(hello)) # returns the size of hello"
      ],
      "execution_count": 28,
      "outputs": [
        {
          "output_type": "stream",
          "text": [
            "14\n"
          ],
          "name": "stdout"
        }
      ]
    },
    {
      "cell_type": "code",
      "metadata": {
        "id": "DFt2XEB481u4",
        "colab_type": "code",
        "colab": {
          "base_uri": "https://localhost:8080/",
          "height": 34
        },
        "outputId": "f8449aa3-2eea-4830-c5d1-dcc78c1a0da0"
      },
      "source": [
        "print(hello.strip()) # removes whitespaces"
      ],
      "execution_count": 29,
      "outputs": [
        {
          "output_type": "stream",
          "text": [
            "Hello, World!\n"
          ],
          "name": "stdout"
        }
      ]
    },
    {
      "cell_type": "code",
      "metadata": {
        "id": "u-yfaZX386jR",
        "colab_type": "code",
        "colab": {
          "base_uri": "https://localhost:8080/",
          "height": 34
        },
        "outputId": "2e0248fb-d4d2-4e04-b9c8-071984bc7e0d"
      },
      "source": [
        "print(hello.lower())"
      ],
      "execution_count": 30,
      "outputs": [
        {
          "output_type": "stream",
          "text": [
            "hello, world! \n"
          ],
          "name": "stdout"
        }
      ]
    },
    {
      "cell_type": "code",
      "metadata": {
        "id": "b4M3ACDG87Xh",
        "colab_type": "code",
        "colab": {
          "base_uri": "https://localhost:8080/",
          "height": 34
        },
        "outputId": "300f53dd-c4a0-4927-b7bb-40a95fe9c7e6"
      },
      "source": [
        "print(hello.upper())"
      ],
      "execution_count": 31,
      "outputs": [
        {
          "output_type": "stream",
          "text": [
            "HELLO, WORLD! \n"
          ],
          "name": "stdout"
        }
      ]
    },
    {
      "cell_type": "code",
      "metadata": {
        "id": "SbIe4Xwk89eS",
        "colab_type": "code",
        "colab": {
          "base_uri": "https://localhost:8080/",
          "height": 34
        },
        "outputId": "241b64a1-cdb3-4de1-b9fe-2f093049a5a0"
      },
      "source": [
        "print(hello.replace(\"H\", \"A\"))"
      ],
      "execution_count": 32,
      "outputs": [
        {
          "output_type": "stream",
          "text": [
            "Aello, World! \n"
          ],
          "name": "stdout"
        }
      ]
    },
    {
      "cell_type": "code",
      "metadata": {
        "id": "dFJqsnlz8_Ej",
        "colab_type": "code",
        "colab": {
          "base_uri": "https://localhost:8080/",
          "height": 34
        },
        "outputId": "f7d7daef-d154-4e92-bbd7-6e1668914894"
      },
      "source": [
        "print(hello.split(\",\"))"
      ],
      "execution_count": 33,
      "outputs": [
        {
          "output_type": "stream",
          "text": [
            "['Hello', ' World! ']\n"
          ],
          "name": "stdout"
        }
      ]
    },
    {
      "cell_type": "code",
      "metadata": {
        "id": "PC3l_YeI9AkW",
        "colab_type": "code",
        "colab": {
          "base_uri": "https://localhost:8080/",
          "height": 51
        },
        "outputId": "1079bda8-48c6-4b4e-8a16-24a7cbbed131"
      },
      "source": [
        "# Membership Operators\n",
        "print(\"Hello\" in hello)\n",
        "print(\"Hello\" not in hello)"
      ],
      "execution_count": 35,
      "outputs": [
        {
          "output_type": "stream",
          "text": [
            "True\n",
            "False\n"
          ],
          "name": "stdout"
        }
      ]
    },
    {
      "cell_type": "code",
      "metadata": {
        "id": "_SlannlY9GQh",
        "colab_type": "code",
        "colab": {
          "base_uri": "https://localhost:8080/",
          "height": 34
        },
        "outputId": "bedd4e7d-d929-4241-f11c-ddcaf8075793"
      },
      "source": [
        "print('Hello, ' + 'World!')"
      ],
      "execution_count": 36,
      "outputs": [
        {
          "output_type": "stream",
          "text": [
            "Hello, World!\n"
          ],
          "name": "stdout"
        }
      ]
    },
    {
      "cell_type": "code",
      "metadata": {
        "id": "vRvrYJyJ9HEX",
        "colab_type": "code",
        "colab": {
          "base_uri": "https://localhost:8080/",
          "height": 34
        },
        "outputId": "d9a615f3-d4bd-4393-a839-065e1fb53c4e"
      },
      "source": [
        "print('Hello, ' 'World!')"
      ],
      "execution_count": 37,
      "outputs": [
        {
          "output_type": "stream",
          "text": [
            "Hello, World!\n"
          ],
          "name": "stdout"
        }
      ]
    },
    {
      "cell_type": "code",
      "metadata": {
        "id": "kFhjB9yI9JqQ",
        "colab_type": "code",
        "colab": {
          "base_uri": "https://localhost:8080/",
          "height": 34
        },
        "outputId": "f6e334e1-2f84-4dff-eca2-81431c06ea08"
      },
      "source": [
        "print(\"{0}, World!\".format('Hello'))"
      ],
      "execution_count": 38,
      "outputs": [
        {
          "output_type": "stream",
          "text": [
            "Hello, World!\n"
          ],
          "name": "stdout"
        }
      ]
    },
    {
      "cell_type": "code",
      "metadata": {
        "id": "s27Htl0f9Lap",
        "colab_type": "code",
        "colab": {
          "base_uri": "https://localhost:8080/",
          "height": 51
        },
        "outputId": "8258a13a-c89f-481c-d04e-89d6a4360adf"
      },
      "source": [
        "print('Hello, \\n World!')"
      ],
      "execution_count": 39,
      "outputs": [
        {
          "output_type": "stream",
          "text": [
            "Hello, \n",
            " World!\n"
          ],
          "name": "stdout"
        }
      ]
    },
    {
      "cell_type": "code",
      "metadata": {
        "id": "IDEaBAXT9NPR",
        "colab_type": "code",
        "colab": {
          "base_uri": "https://localhost:8080/",
          "height": 34
        },
        "outputId": "f675ed94-3363-4ce4-c774-5f4d6e6374b6"
      },
      "source": [
        "print(chr(97)) # Return the string representing a character"
      ],
      "execution_count": 40,
      "outputs": [
        {
          "output_type": "stream",
          "text": [
            "a\n"
          ],
          "name": "stdout"
        }
      ]
    },
    {
      "cell_type": "code",
      "metadata": {
        "id": "tN1jFCCH9Q7S",
        "colab_type": "code",
        "colab": {
          "base_uri": "https://localhost:8080/",
          "height": 34
        },
        "outputId": "42867308-5de5-4ac1-c2b7-3aad8255aaca"
      },
      "source": [
        "print(ord('a')) # Return an integer representing the Unicode"
      ],
      "execution_count": 41,
      "outputs": [
        {
          "output_type": "stream",
          "text": [
            "97\n"
          ],
          "name": "stdout"
        }
      ]
    }
  ]
}