{
  "nbformat": 4,
  "nbformat_minor": 0,
  "metadata": {
    "colab": {
      "name": "python-in-one-page.ipynb",
      "provenance": [],
      "authorship_tag": "ABX9TyPfihjZK0DA9CYcdUUiy20N",
      "include_colab_link": true
    },
    "kernelspec": {
      "name": "python3",
      "display_name": "Python 3"
    }
  },
  "cells": [
    {
      "cell_type": "markdown",
      "metadata": {
        "id": "view-in-github",
        "colab_type": "text"
      },
      "source": [
        "<a href=\"https://colab.research.google.com/github/andredarcie/python-in-one-page/blob/master/python_in_one_page.ipynb\" target=\"_parent\"><img src=\"https://colab.research.google.com/assets/colab-badge.svg\" alt=\"Open In Colab\"/></a>"
      ]
    },
    {
      "cell_type": "markdown",
      "metadata": {
        "id": "Ufmoz5FB7IBt",
        "colab_type": "text"
      },
      "source": [
        "# Python in one page"
      ]
    },
    {
      "cell_type": "markdown",
      "metadata": {
        "id": "dJIZpYWK7Qkp",
        "colab_type": "text"
      },
      "source": [
        "## What is Python?\n",
        "\n",
        "Python is a popular programming language. It was created by Guido van Rossum, and released in 1991.\n",
        "\n",
        "To focus on the language itself this guide not includes any built-in modules like math, random, datetime, json, re, random, etc"
      ]
    },
    {
      "cell_type": "markdown",
      "metadata": {
        "id": "1Rwa7_m_7aXn",
        "colab_type": "text"
      },
      "source": [
        ""
      ]
    },
    {
      "cell_type": "code",
      "metadata": {
        "id": "mjkYYWFp7DSp",
        "colab_type": "code",
        "colab": {
          "base_uri": "https://localhost:8080/",
          "height": 34
        },
        "outputId": "34e23f31-6011-45d5-baf9-7e021734c178"
      },
      "source": [
        "print('Hello, World!')"
      ],
      "execution_count": 2,
      "outputs": [
        {
          "output_type": "stream",
          "text": [
            "Hello, World!\n"
          ],
          "name": "stdout"
        }
      ]
    }
  ]
}